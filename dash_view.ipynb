{
 "cells": [
  {
   "cell_type": "code",
   "execution_count": 2,
   "metadata": {},
   "outputs": [
    {
     "name": "stderr",
     "output_type": "stream",
     "text": [
      "C:\\Users\\gabriel\\AppData\\Local\\Temp\\ipykernel_20492\\2730955815.py:3: UserWarning: \n",
      "The dash_core_components package is deprecated. Please replace\n",
      "`import dash_core_components as dcc` with `from dash import dcc`\n",
      "  import dash_core_components as dcc\n",
      "C:\\Users\\gabriel\\AppData\\Local\\Temp\\ipykernel_20492\\2730955815.py:4: UserWarning: \n",
      "The dash_html_components package is deprecated. Please replace\n",
      "`import dash_html_components as html` with `from dash import html`\n",
      "  import dash_html_components as html\n"
     ]
    }
   ],
   "source": [
    "import pandas as pd\n",
    "import dash\n",
    "import dash_core_components as dcc\n",
    "import dash_html_components as html\n",
    "import dash_bootstrap_components as dbc\n",
    "import plotly.graph_objs as go\n",
    "from PIL import Image\n",
    "import numpy as np\n",
    "from matplotlib import cm\n",
    "from matplotlib.colors import Normalize, LinearSegmentedColormap\n"
   ]
  },
  {
   "cell_type": "code",
   "execution_count": 122,
   "metadata": {},
   "outputs": [],
   "source": [
    "stations_rer_a_constant_dict = {\n",
    "    \"Achères Grand Cormier\":[\"Achères Grand Cormier\"],\n",
    "    \"Achères Ville\" : [\"Achères Ville\"],\n",
    "    \"Auber\" : [\"Auber\"],\n",
    "    \"Boissy-Saint-Léger\" : [\"Boissy-Saint-Léger\", \"Boissy-St-Léger\", \"Boissy\", \"Poissy Saint Léger\"],\n",
    "    \"Bry-sur-Marne\": [\"Bry-sur-Marne\"],\n",
    "    \"Bussy-Saint-Georges\": [\"Bussy-Saint-Georges\", \"Bussy-St-Georges\"],\n",
    "    \"Cergy le Haut\" : [\"Cergy le Haut\", \"Cergy\"],\n",
    "    \"Cergy Préfecture\" : [\"Cergy Préfecture\"],\n",
    "    \"Cergy Saint-Christophe\" : [\"Cergy Saint-Christophe\", \"Cergy St-Christophe\"],\n",
    "    \"Champigny\": [\"Champigny\"],\n",
    "    \"Charles de Gaulle-Etoile\" : [\"Charles de Gaulle-Etoile\"],\n",
    "    \"Châtelet les Halles\" : [\"Châtelet les Halles\"],\n",
    "    \"Chatou-Croissy\" : [\"Chatou-Croissy\"],\n",
    "    \"Conflans Fin d'Oise\" : [\"Conflans Fin d'Oise\", \"Conflans – Fin d’Oise\"],\n",
    "    \"Fontenay-sous-Bois\" : [\"Fontenay-sous-Bois\", \"Fontenay\"],\n",
    "    \"Gare de Lyon\" : [\"Gare de Lyon\"],\n",
    "    \"Houilles-Carrières-sur-Seine\" : [\"Houilles-Carrières-sur-Seine\", \"Houilles\"],\n",
    "    \"Joinville-le-Pont\" : [\"Joinville-le-Pont\"],\n",
    "    \"La Défense\" : [\"La Défense\", \"Défense\"],\n",
    "    \"La Varenne-Chennevières\" :[\"La Varenne-Chennevières\", \"Varenne-Chennevières\", \"Varennes Chennevieres\"],\n",
    "    \"Parc de Saint-Maur\" : [\"Parc de Saint-Maur\", \"Parc de St-Maur\", \"Parc Saint-Maur\", \"Parc St-Maur\"],\n",
    "    \"Le Vésinet-Centre\" : [\"Le Vésinet-Centre\", \"Vésinet-Centre\"],\n",
    "    \"Le Vésinet-Le Pecq\" : [\"Le Vésinet-Le Pecq\", \"Vésinet-Le Pecq\"],\n",
    "    \"Lognes\": [\"Lognes\"],\n",
    "    \"Maisons-Laffitte\" : [\"Maisons-Laffitte\", \"Maison-Laffitte\", \"Maisons-Laffite\", \"Maison-Laffite\"],\n",
    "    \"Marne-la-Vallée-Chessy\" : [\"Marne-la-Vallée-Chessy\", \"MLV-Chessy\", \"Marne la Vallée\", \"Chessy\"],\n",
    "    \"Nanterre Préfecture\" : ['Nanterre Préfecture', \"Nantere Pref\", \"Nanterre-P\"],\n",
    "    \"Nanterre Université\" : [\"Nanterre Université\"],\n",
    "    \"Nanterre Ville\" : [\"Nanterre Ville\"],\n",
    "    \"Nation\" : [\"Nation\"],\n",
    "    \"Neuilly-Plaisance\" : [\"Neuilly-Plaisance\"],\n",
    "    \"Neuville Université\": [\"Neuville Université\"],\n",
    "    \"Nogent-sur-Marne\" : [\"Nogent-sur-Marne\"],\n",
    "    \"Noisiel\" : [\"Noisiel\"],\n",
    "    \"Noisy-Champs\" : [\"Noisy-Champs\"],\n",
    "    \"Noisy-le-Grand-Mont d'Est\" : [\"Noisy-le-Grand-Mont d'Est\", \"Noisy-le-Grand\"],\n",
    "    \"Poissy\" : [\"Poissy\"],\n",
    "    \"Rueil-Malmaison\" : [\"Rueil-Malmaison\"],\n",
    "    \"Saint-Germain-en-Laye\" : [\"Saint-Germain-en-Laye\", \"St-Germain-En-Laye\", \"St Germain\", \"Saint Germain\"],\n",
    "    \"Saint-Maur-Créteil\" : [\"Saint-Maur-Créteil\", \"St-Maur-Créteil\"],\n",
    "    \"Sartrouville\" : [\"Sartrouville\"],\n",
    "    \"Sucy-Bonneuil\" : [\"Sucy-Bonneuil\"],\n",
    "    \"Torcy\" : [\"Torcy\"],\n",
    "    \"Val d'Europe\" : [\"Val d'Europe\"],\n",
    "    \"Val de Fontenay\" : [\"Val de Fontenay\"],\n",
    "    \"Vincennes\" : [\"Vincennes\"],\n",
    "}\n",
    "\n",
    "\n",
    "month_dict = {\n",
    "    1: \"Janvier\",\n",
    "    2: \"Février\",\n",
    "    3: \"Mars\",\n",
    "    4: \"Avril\",\n",
    "    5: \"Mai\",\n",
    "    6: \"Juin\",\n",
    "    7: \"Juillet\",\n",
    "    8: \"Août\",\n",
    "    9: \"Septembre\",\n",
    "    10: \"Octobre\",\n",
    "    11: \"Novembre\",\n",
    "    12: \"Décembre\"\n",
    "}\n",
    "\n",
    "max_day_per_month = {\n",
    "    1: 31,\n",
    "    2: 28,\n",
    "    3: 31,\n",
    "    4: 30,\n",
    "    5: 31,\n",
    "    6: 30,\n",
    "    7: 31,\n",
    "    8: 31,\n",
    "    9: 30,\n",
    "    10: 31,\n",
    "    11: 30,\n",
    "    12: 31\n",
    "}"
   ]
  },
  {
   "cell_type": "code",
   "execution_count": 42,
   "metadata": {},
   "outputs": [
    {
     "data": {
      "text/plain": [
       "['ajustement intervalle',\n",
       " 'voyageur',\n",
       " 'panne electrique',\n",
       " 'police',\n",
       " 'regulation',\n",
       " 'porte',\n",
       " 'panne train',\n",
       " 'chantier',\n",
       " 'signal alarme',\n",
       " 'divers',\n",
       " 'intervention personnel',\n",
       " 'catenaires',\n",
       " 'mesure securite',\n",
       " 'degagement fumee',\n",
       " 'voies',\n",
       " 'incident exploitation',\n",
       " 'bagage oublie',\n",
       " 'signalisation',\n",
       " 'affluence exceptionnelle',\n",
       " 'incident technique']"
      ]
     },
     "execution_count": 42,
     "metadata": {},
     "output_type": "execute_result"
    }
   ],
   "source": [
    "all_types = df_f['label'].fillna('')\n",
    "all_types = all_types.values\n",
    "\n",
    "all_types_split = [a.split(',') for a in all_types]\n",
    "all_types_split_flat = [item for sublist in all_types_split for item in sublist if item]\n",
    "all_types_split_unique = list(set(all_types_split_flat))\n",
    "all_types_split_unique"
   ]
  },
  {
   "cell_type": "code",
   "execution_count": 3,
   "metadata": {},
   "outputs": [],
   "source": [
    "df_f = pd.read_csv(\"to_exploite.csv\")\n",
    "\n",
    "df_f['date'] = pd.to_datetime(df_f['time_posted'])\n",
    "\n",
    "# Ajouter des colonnes pour le mois et l'année\n",
    "df_f['month'] = df_f['date'].dt.month\n",
    "df_f['year'] = df_f['date'].dt.year"
   ]
  },
  {
   "cell_type": "markdown",
   "metadata": {},
   "source": [
    "## Problèmes par gares"
   ]
  },
  {
   "cell_type": "code",
   "execution_count": 4,
   "metadata": {},
   "outputs": [
    {
     "data": {
      "text/plain": [
       "gare_source\n",
       "Achères Grand Cormier            4\n",
       "Achères Ville                   19\n",
       "Auber                           44\n",
       "Boissy-Saint-Léger              30\n",
       "Bry-sur-Marne                   11\n",
       "Bussy-Saint-Georges             15\n",
       "Cergy le Haut                   35\n",
       "Champigny                        6\n",
       "Charles de Gaulle-Etoile        20\n",
       "Chatou-Croissy                   2\n",
       "Châtelet les Halles             46\n",
       "Conflans Fin d'Oise              4\n",
       "Fontenay-sous-Bois              25\n",
       "Gare de Lyon                    44\n",
       "Houilles-Carrières-sur-Seine    10\n",
       "Joinville-le-Pont                4\n",
       "La Défense                      36\n",
       "La Varenne-Chennevières         23\n",
       "Le Vésinet-Le Pecq               5\n",
       "Lognes                           7\n",
       "Maisons-Laffitte                17\n",
       "Marne-la-Vallée-Chessy          29\n",
       "Nanterre Préfecture             60\n",
       "Nanterre Université              8\n",
       "Nanterre Ville                  11\n",
       "Nation                          24\n",
       "Neuilly-Plaisance               13\n",
       "Neuville Université             11\n",
       "Nogent-sur-Marne                 4\n",
       "Noisiel                         10\n",
       "Noisy-Champs                     3\n",
       "Noisy-le-Grand-Mont d'Est       14\n",
       "Parc de Saint-Maur               2\n",
       "Poissy                          28\n",
       "Rueil-Malmaison                 34\n",
       "Saint-Germain-en-Laye           13\n",
       "Saint-Maur-Créteil               5\n",
       "Sartrouville                    10\n",
       "Sucy-Bonneuil                   10\n",
       "Torcy                           62\n",
       "Val d'Europe                    18\n",
       "Vincennes                       34\n",
       "dtype: int64"
      ]
     },
     "execution_count": 4,
     "metadata": {},
     "output_type": "execute_result"
    }
   ],
   "source": [
    "incidents_notifies = df_f[(df_f['tweet_type'] == 'Normal') & (df_f['len_label'] > 0)]\n",
    "\n",
    "# Grouper par gare (label) et compter le nombre total d'incidents\n",
    "incidents_par_gare = incidents_notifies.groupby('gare_source').size()\n",
    "incidents_par_gare"
   ]
  },
  {
   "cell_type": "code",
   "execution_count": 5,
   "metadata": {},
   "outputs": [],
   "source": [
    "gare_list = list(stations_rer_a_constant_dict.keys())"
   ]
  },
  {
   "cell_type": "code",
   "execution_count": 6,
   "metadata": {},
   "outputs": [],
   "source": [
    "line_y_1 = 514\n",
    "line_y_2 = 342\n",
    "line_y_3 = 173\n",
    "\n",
    "\n",
    "x_beginning = 435\n",
    "x_end = 5576\n",
    "x_gap_space = 132\n",
    "x_gare_lyon = x_beginning+(x_gap_space*17) + 2*197\n",
    "\n",
    "gares = [\n",
    "    {\"name\": \"Cergy le Haut\", \"location\": [x_beginning, line_y_1], \"size\": 3},\n",
    "    {\"name\": \"Cergy Saint-Christophe\", \"location\": [x_beginning+x_gap_space, line_y_1], \"size\": 3},\n",
    "    {\"name\": \"Cergy Préfecture\", \"location\": [x_beginning+(x_gap_space*2), line_y_1], \"size\": 3},\n",
    "    {\"name\": \"Neuville Université\", \"location\": [x_beginning+(x_gap_space*3), line_y_1], \"size\": 3},\n",
    "    {\"name\": \"Conflans Fin d'Oise\", \"location\": [x_beginning+(x_gap_space*4), line_y_1], \"size\": 3},\n",
    "    {\"name\": \"Achères Ville\", \"location\": [x_beginning+(x_gap_space*5), line_y_1], \"size\": 3},\n",
    "    {\"name\": \"Maisons-Laffitte\", \"location\": [x_beginning+(x_gap_space*7), line_y_1], \"size\": 3},\n",
    "    {\"name\": \"Sartrouville\", \"location\": [x_beginning+(x_gap_space*8), line_y_1], \"size\": 3},\n",
    "    {\"name\": \"Houilles-Carrières-sur-Seine\", \"location\": [x_beginning+(x_gap_space*9), line_y_1], \"size\": 3},\n",
    "\n",
    "    {\"name\": \"Poissy\", \"location\": [x_beginning+(x_gap_space*2), line_y_2], \"size\": 3},\n",
    "    {\"name\": \"Achères Grand Cormier\", \"location\": [x_beginning+(x_gap_space*3), line_y_2], \"size\": 3},\n",
    "\n",
    "    {\"name\": \"Saint-Germain-en-Laye\", \"location\": [x_beginning+(x_gap_space*4), line_y_3], \"size\": 3},\n",
    "    {\"name\": \"Le Vésinet-Le Pecq\", \"location\": [x_beginning+(x_gap_space*5), line_y_3], \"size\": 3},\n",
    "    {\"name\": \"Le Vésinet-Centre\", \"location\": [x_beginning+(x_gap_space*6), line_y_3], \"size\": 3},\n",
    "    {\"name\": \"Chatou-Croissy\", \"location\": [x_beginning+(x_gap_space*7), line_y_3], \"size\": 3},\n",
    "    {\"name\": \"Rueil-Malmaison\", \"location\": [x_beginning+(x_gap_space*8), line_y_3], \"size\": 3},\n",
    "    {\"name\": \"Nanterre Ville\", \"location\": [x_beginning+(x_gap_space*9), line_y_3], \"size\": 3},\n",
    "    {\"name\": \"Nanterre Université\", \"location\": [x_beginning+(x_gap_space*10), line_y_3], \"size\": 3},\n",
    "\n",
    "\n",
    "    {\"name\": \"Nanterre Préfecture\", \"location\": [x_beginning+(x_gap_space*13), line_y_2], \"size\": 3},\n",
    "    {\"name\": \"La Défense\", \"location\": [x_beginning+(x_gap_space*14), line_y_2], \"size\": 3},\n",
    "\n",
    "    {\"name\": \"Charles de Gaulle-Etoile\", \"location\": [x_beginning+(x_gap_space*16), line_y_2], \"size\": 3},\n",
    "    {\"name\": \"Auber\", \"location\": [x_beginning+(x_gap_space*17), line_y_2], \"size\": 3},\n",
    "    {\"name\": \"Châtelet les Halles\", \"location\": [x_beginning+(x_gap_space*17) + 198, line_y_2], \"size\": 3},\n",
    "    {\"name\": \"Gare de Lyon\", \"location\": [x_gare_lyon, line_y_2], \"size\": 3},\n",
    "    {\"name\": \"Nation\", \"location\": [x_gare_lyon+(x_gap_space*1), line_y_2], \"size\": 3},\n",
    "    {\"name\": \"Vincennes\", \"location\": [x_gare_lyon+(x_gap_space*2), line_y_2], \"size\": 3},\n",
    "\n",
    "\n",
    "    {\"name\": \"Val de Fontenay\", \"location\": [x_gare_lyon+(x_gap_space*5), line_y_1], \"size\": 3},\n",
    "    {\"name\": \"Neuilly-Plaisance\", \"location\": [x_gare_lyon+(x_gap_space*7), line_y_1], \"size\": 3},\n",
    "    {\"name\": \"Bry-sur-Marne\", \"location\": [x_gare_lyon+(x_gap_space*8), line_y_1], \"size\": 3},\n",
    "    {\"name\": \"Noisy-le-Grand-Mont d'Est\", \"location\": [x_gare_lyon+(x_gap_space*10), line_y_1], \"size\": 3},\n",
    "    {\"name\": \"Noisy-Champs\", \"location\": [x_gare_lyon+(x_gap_space*11), line_y_1], \"size\": 3},\n",
    "    {\"name\": \"Noisiel\", \"location\": [x_gare_lyon+(x_gap_space*13), line_y_1], \"size\": 3},\n",
    "    {\"name\": \"Lognes\", \"location\": [x_gare_lyon+(x_gap_space*14), line_y_1], \"size\": 3},\n",
    "    {\"name\": \"Torcy\", \"location\": [x_gare_lyon+(x_gap_space*15), line_y_1], \"size\": 3},\n",
    "    {\"name\": \"Bussy-Saint-Georges\", \"location\": [x_gare_lyon+(x_gap_space*16), line_y_1], \"size\": 3},\n",
    "    {\"name\": \"Val d'Europe\", \"location\": [x_gare_lyon+(x_gap_space*17), line_y_1], \"size\": 3},\n",
    "    {\"name\": \"Marne-la-Vallée-Chessy\", \"location\": [x_gare_lyon+(x_gap_space*19), line_y_1], \"size\": 3},\n",
    "\n",
    "\n",
    "    {\"name\": \"Fontenay-sous-Bois\", \"location\": [x_gare_lyon+(x_gap_space*5), line_y_3], \"size\": 3},\n",
    "    {\"name\":  \"Nogent-sur-Marne\", \"location\": [x_gare_lyon+(x_gap_space*6), line_y_3], \"size\": 3},\n",
    "    {\"name\": \"Joinville-le-Pont\", \"location\": [x_gare_lyon+(x_gap_space*7), line_y_3], \"size\": 3},\n",
    "    {\"name\": \"Saint-Maur-Créteil\", \"location\": [x_gare_lyon+(x_gap_space*8), line_y_3], \"size\": 3},\n",
    "    {\"name\": \"Parc de Saint-Maur\", \"location\": [x_gare_lyon+(x_gap_space*9), line_y_3], \"size\": 3},\n",
    "    {\"name\": \"Champigny\", \"location\": [x_gare_lyon+(x_gap_space*10), line_y_3], \"size\": 3},\n",
    "    {\"name\": \"La Varenne-Chennevières\", \"location\": [x_gare_lyon+(x_gap_space*11), line_y_3], \"size\": 3},\n",
    "    {\"name\": \"Sucy-Bonneuil\", \"location\": [x_gare_lyon+(x_gap_space*13), line_y_3], \"size\": 3},\n",
    "    {\"name\": \"Boissy-Saint-Léger\", \"location\": [x_gare_lyon+(x_gap_space*14), line_y_3], \"size\": 3},\n",
    "\n",
    "]"
   ]
  },
  {
   "cell_type": "code",
   "execution_count": 18,
   "metadata": {},
   "outputs": [
    {
     "data": {
      "application/vnd.plotly.v1+json": {
       "config": {
        "plotlyServerURL": "https://plot.ly"
       },
       "data": [
        {
         "hoverinfo": "text",
         "marker": {
          "color": [
           0.20424452133794693,
           0.895686274509804,
           0.031972318339100345,
           1
          ],
          "line": {
           "color": "black",
           "width": 1
          },
          "size": 1.2903225806451613
         },
         "mode": "markers",
         "text": "Achères Grand Cormier - \nNombre d'incidents: 4",
         "type": "scatter",
         "x": [
          831
         ],
         "y": [
          342
         ]
        },
        {
         "hoverinfo": "text",
         "marker": {
          "color": [
           0.8656516724336794,
           0.8454901960784313,
           0.0053979238754325275,
           1
          ],
          "line": {
           "color": "black",
           "width": 1
          },
          "size": 6.129032258064516
         },
         "mode": "markers",
         "text": "Achères Ville - \nNombre d'incidents: 19",
         "type": "scatter",
         "x": [
          1095
         ],
         "y": [
          514
         ]
        },
        {
         "hoverinfo": "text",
         "marker": {
          "color": [
           1,
           0.5224452133794695,
           0,
           1
          ],
          "line": {
           "color": "black",
           "width": 1
          },
          "size": 14.193548387096774
         },
         "mode": "markers",
         "text": "Auber - \nNombre d'incidents: 44",
         "type": "scatter",
         "x": [
          2679
         ],
         "y": [
          342
         ]
        },
        {
         "hoverinfo": "text",
         "marker": {
          "color": [
           1,
           0.7349019607843137,
           0,
           1
          ],
          "line": {
           "color": "black",
           "width": 1
          },
          "size": 9.67741935483871
         },
         "mode": "markers",
         "text": "Boissy-Saint-Léger - \nNombre d'incidents: 30",
         "type": "scatter",
         "x": [
          4921
         ],
         "y": [
          173
         ]
        },
        {
         "hoverinfo": "text",
         "marker": {
          "color": [
           0.5142791234140716,
           0.8721568627450981,
           0.019515570934256054,
           1
          ],
          "line": {
           "color": "black",
           "width": 1
          },
          "size": 3.5483870967741935
         },
         "mode": "markers",
         "text": "Bry-sur-Marne - \nNombre d'incidents: 11",
         "type": "scatter",
         "x": [
          4129
         ],
         "y": [
          514
         ]
        },
        {
         "hoverinfo": "text",
         "marker": {
          "color": [
           0.6899653979238755,
           0.8588235294117648,
           0.01245674740484429,
           1
          ],
          "line": {
           "color": "black",
           "width": 1
          },
          "size": 4.838709677419355
         },
         "mode": "markers",
         "text": "Bussy-Saint-Georges - \nNombre d'incidents: 15",
         "type": "scatter",
         "x": [
          5185
         ],
         "y": [
          514
         ]
        },
        {
         "hoverinfo": "text",
         "marker": {
          "color": [
           1,
           0.6728950403690889,
           0,
           1
          ],
          "line": {
           "color": "black",
           "width": 1
          },
          "size": 11.290322580645162
         },
         "mode": "markers",
         "text": "Cergy le Haut - \nNombre d'incidents: 35",
         "type": "scatter",
         "x": [
          435
         ],
         "y": [
          514
         ]
        },
        {
         "hoverinfo": "text",
         "marker": {
          "color": [
           0.2972549019607843,
           0.8886274509803922,
           0.02823529411764706,
           1
          ],
          "line": {
           "color": "black",
           "width": 1
          },
          "size": 1.935483870967742
         },
         "mode": "markers",
         "text": "Champigny - \nNombre d'incidents: 6",
         "type": "scatter",
         "x": [
          4393
         ],
         "y": [
          173
         ]
        },
        {
         "hoverinfo": "text",
         "marker": {
          "color": [
           0.9069896193771627,
           0.8423529411764706,
           0.0037370242214532848,
           1
          ],
          "line": {
           "color": "black",
           "width": 1
          },
          "size": 6.451612903225806
         },
         "mode": "markers",
         "text": "Charles de Gaulle-Etoile - \nNombre d'incidents: 20",
         "type": "scatter",
         "x": [
          2547
         ],
         "y": [
          342
         ]
        },
        {
         "hoverinfo": "text",
         "marker": {
          "color": [
           0.12156862745098039,
           0.9019607843137255,
           0.03529411764705882,
           1
          ],
          "line": {
           "color": "black",
           "width": 1
          },
          "size": 0.6451612903225806
         },
         "mode": "markers",
         "text": "Chatou-Croissy - \nNombre d'incidents: 2",
         "type": "scatter",
         "x": [
          1359
         ],
         "y": [
          173
         ]
        },
        {
         "hoverinfo": "text",
         "marker": {
          "color": [
           1,
           0.4674509803921569,
           0,
           1
          ],
          "line": {
           "color": "black",
           "width": 1
          },
          "size": 14.838709677419354
         },
         "mode": "markers",
         "text": "Châtelet les Halles - \nNombre d'incidents: 46",
         "type": "scatter",
         "x": [
          2877
         ],
         "y": [
          342
         ]
        },
        {
         "hoverinfo": "text",
         "marker": {
          "color": [
           0.20424452133794693,
           0.895686274509804,
           0.031972318339100345,
           1
          ],
          "line": {
           "color": "black",
           "width": 1
          },
          "size": 1.2903225806451613
         },
         "mode": "markers",
         "text": "Conflans Fin d'Oise - \nNombre d'incidents: 4",
         "type": "scatter",
         "x": [
          963
         ],
         "y": [
          514
         ]
        },
        {
         "hoverinfo": "text",
         "marker": {
          "color": [
           1,
           0.7969088811995387,
           0,
           1
          ],
          "line": {
           "color": "black",
           "width": 1
          },
          "size": 8.064516129032258
         },
         "mode": "markers",
         "text": "Fontenay-sous-Bois - \nNombre d'incidents: 25",
         "type": "scatter",
         "x": [
          3733
         ],
         "y": [
          173
         ]
        },
        {
         "hoverinfo": "text",
         "marker": {
          "color": [
           1,
           0.5224452133794695,
           0,
           1
          ],
          "line": {
           "color": "black",
           "width": 1
          },
          "size": 14.193548387096774
         },
         "mode": "markers",
         "text": "Gare de Lyon - \nNombre d'incidents: 44",
         "type": "scatter",
         "x": [
          3073
         ],
         "y": [
          342
         ]
        },
        {
         "hoverinfo": "text",
         "marker": {
          "color": [
           0.47294117647058825,
           0.8752941176470589,
           0.021176470588235293,
           1
          ],
          "line": {
           "color": "black",
           "width": 1
          },
          "size": 3.225806451612903
         },
         "mode": "markers",
         "text": "Houilles-Carrières-sur-Seine - \nNombre d'incidents: 10",
         "type": "scatter",
         "x": [
          1623
         ],
         "y": [
          514
         ]
        },
        {
         "hoverinfo": "text",
         "marker": {
          "color": [
           0.20424452133794693,
           0.895686274509804,
           0.031972318339100345,
           1
          ],
          "line": {
           "color": "black",
           "width": 1
          },
          "size": 1.2903225806451613
         },
         "mode": "markers",
         "text": "Joinville-le-Pont - \nNombre d'incidents: 4",
         "type": "scatter",
         "x": [
          3997
         ],
         "y": [
          173
         ]
        },
        {
         "hoverinfo": "text",
         "marker": {
          "color": [
           1,
           0.6581314878892733,
           0,
           1
          ],
          "line": {
           "color": "black",
           "width": 1
          },
          "size": 11.612903225806452
         },
         "mode": "markers",
         "text": "La Défense - \nNombre d'incidents: 36",
         "type": "scatter",
         "x": [
          2283
         ],
         "y": [
          342
         ]
        },
        {
         "hoverinfo": "text",
         "marker": {
          "color": [
           1,
           0.8234832756632064,
           0,
           1
          ],
          "line": {
           "color": "black",
           "width": 1
          },
          "size": 7.419354838709677
         },
         "mode": "markers",
         "text": "La Varenne-Chennevières - \nNombre d'incidents: 23",
         "type": "scatter",
         "x": [
          4525
         ],
         "y": [
          173
         ]
        },
        {
         "hoverinfo": "text",
         "marker": {
          "color": [
           0.2455824682814302,
           0.8925490196078432,
           0.030311418685121105,
           1
          ],
          "line": {
           "color": "black",
           "width": 1
          },
          "size": 1.6129032258064515
         },
         "mode": "markers",
         "text": "Le Vésinet-Le Pecq - \nNombre d'incidents: 5",
         "type": "scatter",
         "x": [
          1095
         ],
         "y": [
          173
         ]
        },
        {
         "hoverinfo": "text",
         "marker": {
          "color": [
           0.3385928489042676,
           0.8854901960784314,
           0.02657439446366782,
           1
          ],
          "line": {
           "color": "black",
           "width": 1
          },
          "size": 2.2580645161290325
         },
         "mode": "markers",
         "text": "Lognes - \nNombre d'incidents: 7",
         "type": "scatter",
         "x": [
          4921
         ],
         "y": [
          514
         ]
        },
        {
         "hoverinfo": "text",
         "marker": {
          "color": [
           0.7829757785467127,
           0.851764705882353,
           0.008719723183391002,
           1
          ],
          "line": {
           "color": "black",
           "width": 1
          },
          "size": 5.483870967741935
         },
         "mode": "markers",
         "text": "Maisons-Laffitte - \nNombre d'incidents: 17",
         "type": "scatter",
         "x": [
          1359
         ],
         "y": [
          514
         ]
        },
        {
         "hoverinfo": "text",
         "marker": {
          "color": [
           1,
           0.7467128027681661,
           0,
           1
          ],
          "line": {
           "color": "black",
           "width": 1
          },
          "size": 9.35483870967742
         },
         "mode": "markers",
         "text": "Marne-la-Vallée-Chessy - \nNombre d'incidents: 29",
         "type": "scatter",
         "x": [
          5581
         ],
         "y": [
          514
         ]
        },
        {
         "hoverinfo": "text",
         "marker": {
          "color": [
           1,
           0.05499423298731254,
           0,
           1
          ],
          "line": {
           "color": "black",
           "width": 1
          },
          "size": 19.35483870967742
         },
         "mode": "markers",
         "text": "Nanterre Préfecture - \nNombre d'incidents: 60",
         "type": "scatter",
         "x": [
          2151
         ],
         "y": [
          342
         ]
        },
        {
         "hoverinfo": "text",
         "marker": {
          "color": [
           0.37993079584775086,
           0.8823529411764706,
           0.02491349480968858,
           1
          ],
          "line": {
           "color": "black",
           "width": 1
          },
          "size": 2.5806451612903225
         },
         "mode": "markers",
         "text": "Nanterre Université - \nNombre d'incidents: 8",
         "type": "scatter",
         "x": [
          1755
         ],
         "y": [
          173
         ]
        },
        {
         "hoverinfo": "text",
         "marker": {
          "color": [
           0.5142791234140716,
           0.8721568627450981,
           0.019515570934256054,
           1
          ],
          "line": {
           "color": "black",
           "width": 1
          },
          "size": 3.5483870967741935
         },
         "mode": "markers",
         "text": "Nanterre Ville - \nNombre d'incidents: 11",
         "type": "scatter",
         "x": [
          1623
         ],
         "y": [
          173
         ]
        },
        {
         "hoverinfo": "text",
         "marker": {
          "color": [
           1,
           0.8116724336793542,
           0,
           1
          ],
          "line": {
           "color": "black",
           "width": 1
          },
          "size": 7.741935483870968
         },
         "mode": "markers",
         "text": "Nation - \nNombre d'incidents: 24",
         "type": "scatter",
         "x": [
          3205
         ],
         "y": [
          342
         ]
        },
        {
         "hoverinfo": "text",
         "marker": {
          "color": [
           0.5969550173010381,
           0.8658823529411765,
           0.01619377162629758,
           1
          ],
          "line": {
           "color": "black",
           "width": 1
          },
          "size": 4.193548387096774
         },
         "mode": "markers",
         "text": "Neuilly-Plaisance - \nNombre d'incidents: 13",
         "type": "scatter",
         "x": [
          3997
         ],
         "y": [
          514
         ]
        },
        {
         "hoverinfo": "text",
         "marker": {
          "color": [
           0.5142791234140716,
           0.8721568627450981,
           0.019515570934256054,
           1
          ],
          "line": {
           "color": "black",
           "width": 1
          },
          "size": 3.5483870967741935
         },
         "mode": "markers",
         "text": "Neuville Université - \nNombre d'incidents: 11",
         "type": "scatter",
         "x": [
          831
         ],
         "y": [
          514
         ]
        },
        {
         "hoverinfo": "text",
         "marker": {
          "color": [
           0.20424452133794693,
           0.895686274509804,
           0.031972318339100345,
           1
          ],
          "line": {
           "color": "black",
           "width": 1
          },
          "size": 1.2903225806451613
         },
         "mode": "markers",
         "text": "Nogent-sur-Marne - \nNombre d'incidents: 4",
         "type": "scatter",
         "x": [
          3865
         ],
         "y": [
          173
         ]
        },
        {
         "hoverinfo": "text",
         "marker": {
          "color": [
           0.47294117647058825,
           0.8752941176470589,
           0.021176470588235293,
           1
          ],
          "line": {
           "color": "black",
           "width": 1
          },
          "size": 3.225806451612903
         },
         "mode": "markers",
         "text": "Noisiel - \nNombre d'incidents: 10",
         "type": "scatter",
         "x": [
          4789
         ],
         "y": [
          514
         ]
        },
        {
         "hoverinfo": "text",
         "marker": {
          "color": [
           0.16290657439446365,
           0.8988235294117647,
           0.033633217993079584,
           1
          ],
          "line": {
           "color": "black",
           "width": 1
          },
          "size": 0.967741935483871
         },
         "mode": "markers",
         "text": "Noisy-Champs - \nNombre d'incidents: 3",
         "type": "scatter",
         "x": [
          4525
         ],
         "y": [
          514
         ]
        },
        {
         "hoverinfo": "text",
         "marker": {
          "color": [
           0.6486274509803921,
           0.8619607843137255,
           0.01411764705882353,
           1
          ],
          "line": {
           "color": "black",
           "width": 1
          },
          "size": 4.516129032258065
         },
         "mode": "markers",
         "text": "Noisy-le-Grand-Mont d'Est - \nNombre d'incidents: 14",
         "type": "scatter",
         "x": [
          4393
         ],
         "y": [
          514
         ]
        },
        {
         "hoverinfo": "text",
         "marker": {
          "color": [
           0.12156862745098039,
           0.9019607843137255,
           0.03529411764705882,
           1
          ],
          "line": {
           "color": "black",
           "width": 1
          },
          "size": 0.6451612903225806
         },
         "mode": "markers",
         "text": "Parc de Saint-Maur - \nNombre d'incidents: 2",
         "type": "scatter",
         "x": [
          4261
         ],
         "y": [
          173
         ]
        },
        {
         "hoverinfo": "text",
         "marker": {
          "color": [
           1,
           0.7614763552479815,
           0,
           1
          ],
          "line": {
           "color": "black",
           "width": 1
          },
          "size": 9.03225806451613
         },
         "mode": "markers",
         "text": "Poissy - \nNombre d'incidents: 28",
         "type": "scatter",
         "x": [
          699
         ],
         "y": [
          342
         ]
        },
        {
         "hoverinfo": "text",
         "marker": {
          "color": [
           1,
           0.6847058823529413,
           0,
           1
          ],
          "line": {
           "color": "black",
           "width": 1
          },
          "size": 10.96774193548387
         },
         "mode": "markers",
         "text": "Rueil-Malmaison - \nNombre d'incidents: 34",
         "type": "scatter",
         "x": [
          1491
         ],
         "y": [
          173
         ]
        },
        {
         "hoverinfo": "text",
         "marker": {
          "color": [
           0.5969550173010381,
           0.8658823529411765,
           0.01619377162629758,
           1
          ],
          "line": {
           "color": "black",
           "width": 1
          },
          "size": 4.193548387096774
         },
         "mode": "markers",
         "text": "Saint-Germain-en-Laye - \nNombre d'incidents: 13",
         "type": "scatter",
         "x": [
          963
         ],
         "y": [
          173
         ]
        },
        {
         "hoverinfo": "text",
         "marker": {
          "color": [
           0.2455824682814302,
           0.8925490196078432,
           0.030311418685121105,
           1
          ],
          "line": {
           "color": "black",
           "width": 1
          },
          "size": 1.6129032258064515
         },
         "mode": "markers",
         "text": "Saint-Maur-Créteil - \nNombre d'incidents: 5",
         "type": "scatter",
         "x": [
          4129
         ],
         "y": [
          173
         ]
        },
        {
         "hoverinfo": "text",
         "marker": {
          "color": [
           0.47294117647058825,
           0.8752941176470589,
           0.021176470588235293,
           1
          ],
          "line": {
           "color": "black",
           "width": 1
          },
          "size": 3.225806451612903
         },
         "mode": "markers",
         "text": "Sartrouville - \nNombre d'incidents: 10",
         "type": "scatter",
         "x": [
          1491
         ],
         "y": [
          514
         ]
        },
        {
         "hoverinfo": "text",
         "marker": {
          "color": [
           0.47294117647058825,
           0.8752941176470589,
           0.021176470588235293,
           1
          ],
          "line": {
           "color": "black",
           "width": 1
          },
          "size": 3.225806451612903
         },
         "mode": "markers",
         "text": "Sucy-Bonneuil - \nNombre d'incidents: 10",
         "type": "scatter",
         "x": [
          4789
         ],
         "y": [
          173
         ]
        },
        {
         "hoverinfo": "text",
         "marker": {
          "color": [
           1,
           0,
           0,
           1
          ],
          "line": {
           "color": "black",
           "width": 1
          },
          "size": 20
         },
         "mode": "markers",
         "text": "Torcy - \nNombre d'incidents: 62",
         "type": "scatter",
         "x": [
          5053
         ],
         "y": [
          514
         ]
        },
        {
         "hoverinfo": "text",
         "marker": {
          "color": [
           0.8243137254901961,
           0.8486274509803922,
           0.007058823529411763,
           1
          ],
          "line": {
           "color": "black",
           "width": 1
          },
          "size": 5.806451612903226
         },
         "mode": "markers",
         "text": "Val d'Europe - \nNombre d'incidents: 18",
         "type": "scatter",
         "x": [
          5317
         ],
         "y": [
          514
         ]
        },
        {
         "hoverinfo": "text",
         "marker": {
          "color": [
           1,
           0.6847058823529413,
           0,
           1
          ],
          "line": {
           "color": "black",
           "width": 1
          },
          "size": 10.96774193548387
         },
         "mode": "markers",
         "text": "Vincennes - \nNombre d'incidents: 34",
         "type": "scatter",
         "x": [
          3337
         ],
         "y": [
          342
         ]
        }
       ],
       "layout": {
        "font": {
         "family": "Parisine Bold.otf"
        },
        "images": [
         {
          "layer": "below",
          "opacity": 1,
          "sizex": 5859,
          "sizey": 795,
          "sizing": "stretch",
          "source": "data:image/png;base64,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",
          "x": 0,
          "xref": "x",
          "y": 795,
          "yref": "y"
         }
        ],
        "showlegend": false,
        "template": {
         "data": {
          "bar": [
           {
            "error_x": {
             "color": "#2a3f5f"
            },
            "error_y": {
             "color": "#2a3f5f"
            },
            "marker": {
             "line": {
              "color": "#E5ECF6",
              "width": 0.5
             },
             "pattern": {
              "fillmode": "overlay",
              "size": 10,
              "solidity": 0.2
             }
            },
            "type": "bar"
           }
          ],
          "barpolar": [
           {
            "marker": {
             "line": {
              "color": "#E5ECF6",
              "width": 0.5
             },
             "pattern": {
              "fillmode": "overlay",
              "size": 10,
              "solidity": 0.2
             }
            },
            "type": "barpolar"
           }
          ],
          "carpet": [
           {
            "aaxis": {
             "endlinecolor": "#2a3f5f",
             "gridcolor": "white",
             "linecolor": "white",
             "minorgridcolor": "white",
             "startlinecolor": "#2a3f5f"
            },
            "baxis": {
             "endlinecolor": "#2a3f5f",
             "gridcolor": "white",
             "linecolor": "white",
             "minorgridcolor": "white",
             "startlinecolor": "#2a3f5f"
            },
            "type": "carpet"
           }
          ],
          "choropleth": [
           {
            "colorbar": {
             "outlinewidth": 0,
             "ticks": ""
            },
            "type": "choropleth"
           }
          ],
          "contour": [
           {
            "colorbar": {
             "outlinewidth": 0,
             "ticks": ""
            },
            "colorscale": [
             [
              0,
              "#0d0887"
             ],
             [
              0.1111111111111111,
              "#46039f"
             ],
             [
              0.2222222222222222,
              "#7201a8"
             ],
             [
              0.3333333333333333,
              "#9c179e"
             ],
             [
              0.4444444444444444,
              "#bd3786"
             ],
             [
              0.5555555555555556,
              "#d8576b"
             ],
             [
              0.6666666666666666,
              "#ed7953"
             ],
             [
              0.7777777777777778,
              "#fb9f3a"
             ],
             [
              0.8888888888888888,
              "#fdca26"
             ],
             [
              1,
              "#f0f921"
             ]
            ],
            "type": "contour"
           }
          ],
          "contourcarpet": [
           {
            "colorbar": {
             "outlinewidth": 0,
             "ticks": ""
            },
            "type": "contourcarpet"
           }
          ],
          "heatmap": [
           {
            "colorbar": {
             "outlinewidth": 0,
             "ticks": ""
            },
            "colorscale": [
             [
              0,
              "#0d0887"
             ],
             [
              0.1111111111111111,
              "#46039f"
             ],
             [
              0.2222222222222222,
              "#7201a8"
             ],
             [
              0.3333333333333333,
              "#9c179e"
             ],
             [
              0.4444444444444444,
              "#bd3786"
             ],
             [
              0.5555555555555556,
              "#d8576b"
             ],
             [
              0.6666666666666666,
              "#ed7953"
             ],
             [
              0.7777777777777778,
              "#fb9f3a"
             ],
             [
              0.8888888888888888,
              "#fdca26"
             ],
             [
              1,
              "#f0f921"
             ]
            ],
            "type": "heatmap"
           }
          ],
          "heatmapgl": [
           {
            "colorbar": {
             "outlinewidth": 0,
             "ticks": ""
            },
            "colorscale": [
             [
              0,
              "#0d0887"
             ],
             [
              0.1111111111111111,
              "#46039f"
             ],
             [
              0.2222222222222222,
              "#7201a8"
             ],
             [
              0.3333333333333333,
              "#9c179e"
             ],
             [
              0.4444444444444444,
              "#bd3786"
             ],
             [
              0.5555555555555556,
              "#d8576b"
             ],
             [
              0.6666666666666666,
              "#ed7953"
             ],
             [
              0.7777777777777778,
              "#fb9f3a"
             ],
             [
              0.8888888888888888,
              "#fdca26"
             ],
             [
              1,
              "#f0f921"
             ]
            ],
            "type": "heatmapgl"
           }
          ],
          "histogram": [
           {
            "marker": {
             "pattern": {
              "fillmode": "overlay",
              "size": 10,
              "solidity": 0.2
             }
            },
            "type": "histogram"
           }
          ],
          "histogram2d": [
           {
            "colorbar": {
             "outlinewidth": 0,
             "ticks": ""
            },
            "colorscale": [
             [
              0,
              "#0d0887"
             ],
             [
              0.1111111111111111,
              "#46039f"
             ],
             [
              0.2222222222222222,
              "#7201a8"
             ],
             [
              0.3333333333333333,
              "#9c179e"
             ],
             [
              0.4444444444444444,
              "#bd3786"
             ],
             [
              0.5555555555555556,
              "#d8576b"
             ],
             [
              0.6666666666666666,
              "#ed7953"
             ],
             [
              0.7777777777777778,
              "#fb9f3a"
             ],
             [
              0.8888888888888888,
              "#fdca26"
             ],
             [
              1,
              "#f0f921"
             ]
            ],
            "type": "histogram2d"
           }
          ],
          "histogram2dcontour": [
           {
            "colorbar": {
             "outlinewidth": 0,
             "ticks": ""
            },
            "colorscale": [
             [
              0,
              "#0d0887"
             ],
             [
              0.1111111111111111,
              "#46039f"
             ],
             [
              0.2222222222222222,
              "#7201a8"
             ],
             [
              0.3333333333333333,
              "#9c179e"
             ],
             [
              0.4444444444444444,
              "#bd3786"
             ],
             [
              0.5555555555555556,
              "#d8576b"
             ],
             [
              0.6666666666666666,
              "#ed7953"
             ],
             [
              0.7777777777777778,
              "#fb9f3a"
             ],
             [
              0.8888888888888888,
              "#fdca26"
             ],
             [
              1,
              "#f0f921"
             ]
            ],
            "type": "histogram2dcontour"
           }
          ],
          "mesh3d": [
           {
            "colorbar": {
             "outlinewidth": 0,
             "ticks": ""
            },
            "type": "mesh3d"
           }
          ],
          "parcoords": [
           {
            "line": {
             "colorbar": {
              "outlinewidth": 0,
              "ticks": ""
             }
            },
            "type": "parcoords"
           }
          ],
          "pie": [
           {
            "automargin": true,
            "type": "pie"
           }
          ],
          "scatter": [
           {
            "fillpattern": {
             "fillmode": "overlay",
             "size": 10,
             "solidity": 0.2
            },
            "type": "scatter"
           }
          ],
          "scatter3d": [
           {
            "line": {
             "colorbar": {
              "outlinewidth": 0,
              "ticks": ""
             }
            },
            "marker": {
             "colorbar": {
              "outlinewidth": 0,
              "ticks": ""
             }
            },
            "type": "scatter3d"
           }
          ],
          "scattercarpet": [
           {
            "marker": {
             "colorbar": {
              "outlinewidth": 0,
              "ticks": ""
             }
            },
            "type": "scattercarpet"
           }
          ],
          "scattergeo": [
           {
            "marker": {
             "colorbar": {
              "outlinewidth": 0,
              "ticks": ""
             }
            },
            "type": "scattergeo"
           }
          ],
          "scattergl": [
           {
            "marker": {
             "colorbar": {
              "outlinewidth": 0,
              "ticks": ""
             }
            },
            "type": "scattergl"
           }
          ],
          "scattermapbox": [
           {
            "marker": {
             "colorbar": {
              "outlinewidth": 0,
              "ticks": ""
             }
            },
            "type": "scattermapbox"
           }
          ],
          "scatterpolar": [
           {
            "marker": {
             "colorbar": {
              "outlinewidth": 0,
              "ticks": ""
             }
            },
            "type": "scatterpolar"
           }
          ],
          "scatterpolargl": [
           {
            "marker": {
             "colorbar": {
              "outlinewidth": 0,
              "ticks": ""
             }
            },
            "type": "scatterpolargl"
           }
          ],
          "scatterternary": [
           {
            "marker": {
             "colorbar": {
              "outlinewidth": 0,
              "ticks": ""
             }
            },
            "type": "scatterternary"
           }
          ],
          "surface": [
           {
            "colorbar": {
             "outlinewidth": 0,
             "ticks": ""
            },
            "colorscale": [
             [
              0,
              "#0d0887"
             ],
             [
              0.1111111111111111,
              "#46039f"
             ],
             [
              0.2222222222222222,
              "#7201a8"
             ],
             [
              0.3333333333333333,
              "#9c179e"
             ],
             [
              0.4444444444444444,
              "#bd3786"
             ],
             [
              0.5555555555555556,
              "#d8576b"
             ],
             [
              0.6666666666666666,
              "#ed7953"
             ],
             [
              0.7777777777777778,
              "#fb9f3a"
             ],
             [
              0.8888888888888888,
              "#fdca26"
             ],
             [
              1,
              "#f0f921"
             ]
            ],
            "type": "surface"
           }
          ],
          "table": [
           {
            "cells": {
             "fill": {
              "color": "#EBF0F8"
             },
             "line": {
              "color": "white"
             }
            },
            "header": {
             "fill": {
              "color": "#C8D4E3"
             },
             "line": {
              "color": "white"
             }
            },
            "type": "table"
           }
          ]
         },
         "layout": {
          "annotationdefaults": {
           "arrowcolor": "#2a3f5f",
           "arrowhead": 0,
           "arrowwidth": 1
          },
          "autotypenumbers": "strict",
          "coloraxis": {
           "colorbar": {
            "outlinewidth": 0,
            "ticks": ""
           }
          },
          "colorscale": {
           "diverging": [
            [
             0,
             "#8e0152"
            ],
            [
             0.1,
             "#c51b7d"
            ],
            [
             0.2,
             "#de77ae"
            ],
            [
             0.3,
             "#f1b6da"
            ],
            [
             0.4,
             "#fde0ef"
            ],
            [
             0.5,
             "#f7f7f7"
            ],
            [
             0.6,
             "#e6f5d0"
            ],
            [
             0.7,
             "#b8e186"
            ],
            [
             0.8,
             "#7fbc41"
            ],
            [
             0.9,
             "#4d9221"
            ],
            [
             1,
             "#276419"
            ]
           ],
           "sequential": [
            [
             0,
             "#0d0887"
            ],
            [
             0.1111111111111111,
             "#46039f"
            ],
            [
             0.2222222222222222,
             "#7201a8"
            ],
            [
             0.3333333333333333,
             "#9c179e"
            ],
            [
             0.4444444444444444,
             "#bd3786"
            ],
            [
             0.5555555555555556,
             "#d8576b"
            ],
            [
             0.6666666666666666,
             "#ed7953"
            ],
            [
             0.7777777777777778,
             "#fb9f3a"
            ],
            [
             0.8888888888888888,
             "#fdca26"
            ],
            [
             1,
             "#f0f921"
            ]
           ],
           "sequentialminus": [
            [
             0,
             "#0d0887"
            ],
            [
             0.1111111111111111,
             "#46039f"
            ],
            [
             0.2222222222222222,
             "#7201a8"
            ],
            [
             0.3333333333333333,
             "#9c179e"
            ],
            [
             0.4444444444444444,
             "#bd3786"
            ],
            [
             0.5555555555555556,
             "#d8576b"
            ],
            [
             0.6666666666666666,
             "#ed7953"
            ],
            [
             0.7777777777777778,
             "#fb9f3a"
            ],
            [
             0.8888888888888888,
             "#fdca26"
            ],
            [
             1,
             "#f0f921"
            ]
           ]
          },
          "colorway": [
           "#636efa",
           "#EF553B",
           "#00cc96",
           "#ab63fa",
           "#FFA15A",
           "#19d3f3",
           "#FF6692",
           "#B6E880",
           "#FF97FF",
           "#FECB52"
          ],
          "font": {
           "color": "#2a3f5f"
          },
          "geo": {
           "bgcolor": "white",
           "lakecolor": "white",
           "landcolor": "#E5ECF6",
           "showlakes": true,
           "showland": true,
           "subunitcolor": "white"
          },
          "hoverlabel": {
           "align": "left"
          },
          "hovermode": "closest",
          "mapbox": {
           "style": "light"
          },
          "paper_bgcolor": "white",
          "plot_bgcolor": "#E5ECF6",
          "polar": {
           "angularaxis": {
            "gridcolor": "white",
            "linecolor": "white",
            "ticks": ""
           },
           "bgcolor": "#E5ECF6",
           "radialaxis": {
            "gridcolor": "white",
            "linecolor": "white",
            "ticks": ""
           }
          },
          "scene": {
           "xaxis": {
            "backgroundcolor": "#E5ECF6",
            "gridcolor": "white",
            "gridwidth": 2,
            "linecolor": "white",
            "showbackground": true,
            "ticks": "",
            "zerolinecolor": "white"
           },
           "yaxis": {
            "backgroundcolor": "#E5ECF6",
            "gridcolor": "white",
            "gridwidth": 2,
            "linecolor": "white",
            "showbackground": true,
            "ticks": "",
            "zerolinecolor": "white"
           },
           "zaxis": {
            "backgroundcolor": "#E5ECF6",
            "gridcolor": "white",
            "gridwidth": 2,
            "linecolor": "white",
            "showbackground": true,
            "ticks": "",
            "zerolinecolor": "white"
           }
          },
          "shapedefaults": {
           "line": {
            "color": "#2a3f5f"
           }
          },
          "ternary": {
           "aaxis": {
            "gridcolor": "white",
            "linecolor": "white",
            "ticks": ""
           },
           "baxis": {
            "gridcolor": "white",
            "linecolor": "white",
            "ticks": ""
           },
           "bgcolor": "#E5ECF6",
           "caxis": {
            "gridcolor": "white",
            "linecolor": "white",
            "ticks": ""
           }
          },
          "title": {
           "x": 0.05
          },
          "xaxis": {
           "automargin": true,
           "gridcolor": "white",
           "linecolor": "white",
           "ticks": "",
           "title": {
            "standoff": 15
           },
           "zerolinecolor": "white",
           "zerolinewidth": 2
          },
          "yaxis": {
           "automargin": true,
           "gridcolor": "white",
           "linecolor": "white",
           "ticks": "",
           "title": {
            "standoff": 15
           },
           "zerolinecolor": "white",
           "zerolinewidth": 2
          }
         }
        },
        "title": {
         "font": {
          "color": "#284897",
          "size": 30
         },
         "text": "Nombre d'incidents par gare",
         "x": 0.5,
         "xanchor": "center",
         "y": 0.7,
         "yanchor": "top"
        },
        "xaxis": {
         "range": [
          0,
          5859
         ],
         "visible": false
        },
        "yaxis": {
         "range": [
          0,
          795
         ],
         "scaleanchor": "x",
         "visible": false
        }
       }
      }
     },
     "metadata": {},
     "output_type": "display_data"
    }
   ],
   "source": [
    "\n",
    "\n",
    "# Charger l'image de la ligne de métro\n",
    "image_path = 'plan_rer__a.png'\n",
    "img = Image.open(image_path)\n",
    "img_width, img_height = img.size\n",
    "\n",
    "\n",
    "# Normaliser les tailles des cercles\n",
    "norm = Normalize(vmin=min(incidents_par_gare), vmax=max(incidents_par_gare))\n",
    "colors = [\"#1FE609\", \"#ffd500\", \"#ff9500\", \"#ff0000\"]  # Vert -> Noir\n",
    "cmap = LinearSegmentedColormap.from_list(\"GreenBlack\", colors)\n",
    "\n",
    "\n",
    "\n",
    "# Créer les traces pour les cercles\n",
    "traces = []\n",
    "\n",
    "for index, nb_incidents in enumerate(incidents_par_gare):\n",
    "    gare_concernes = incidents_par_gare.index[index]\n",
    "\n",
    "    for gare in gares:\n",
    "        if gare_concernes in gare['name']:\n",
    "            \n",
    "            color = cmap(norm(nb_incidents))\n",
    "            traces.append(go.Scatter(\n",
    "                x=[gare[\"location\"][0]],\n",
    "                y=[gare[\"location\"][1]],\n",
    "                mode='markers',\n",
    "                marker=dict(\n",
    "                    size=(nb_incidents*20)/max(incidents_par_gare),  # Ajuster le facteur de taille si nécessaire\n",
    "                    color=color,\n",
    "                    line=dict(width=1, color='black')\n",
    "                ),\n",
    "                text=f\"{gare['name']} - \\nNombre d'incidents: {nb_incidents}\",\n",
    "                hoverinfo='text'\n",
    "            ))\n",
    "\n",
    "            \n",
    "            break\n",
    "\n",
    "\n",
    "# Créer la figure\n",
    "fig = go.Figure(data=traces)\n",
    "\n",
    "# Ajouter l'image en arrière-plan\n",
    "fig.add_layout_image(\n",
    "    dict(\n",
    "        source=img,\n",
    "        xref=\"x\",\n",
    "        yref=\"y\",\n",
    "        x=0,\n",
    "        y=img_height,\n",
    "        sizex=img_width,\n",
    "        sizey=img_height,\n",
    "        sizing=\"stretch\",\n",
    "        opacity=1,\n",
    "        layer=\"below\"\n",
    "    )\n",
    ")\n",
    "\n",
    "# Ajuster les limites de l'axe pour correspondre à l'image\n",
    "fig.update_xaxes(visible=False, range=[0, img_width])\n",
    "fig.update_yaxes(visible=False, range=[0, img_height], scaleanchor=\"x\")\n",
    "\n",
    "\n",
    "\n",
    "# Ajouter une légende personnalisée\n",
    "fig.update_layout(\n",
    "\n",
    "    title=dict(\n",
    "        text=\"Nombre d'incidents par gare\",\n",
    "        font=dict(size=30, color=\"#284897\"),\n",
    "        x=0.5,\n",
    "        y=0.7,\n",
    "        xanchor='center',\n",
    "        yanchor='top'\n",
    "    ),\n",
    "    showlegend=False,\n",
    ")\n",
    "fig.update_layout(font_family=\"Parisine Bold.otf\")\n",
    "\n",
    "fig.show()"
   ]
  },
  {
   "cell_type": "markdown",
   "metadata": {},
   "source": [
    "## Base DASH\n"
   ]
  },
  {
   "cell_type": "code",
   "execution_count": 231,
   "metadata": {},
   "outputs": [],
   "source": [
    "import dash\n",
    "import dash_core_components as dcc\n",
    "import dash_html_components as html\n",
    "import dash_bootstrap_components as dbc\n",
    "from dash.dependencies import Input, Output\n",
    "import plotly.graph_objs as go\n",
    "import pandas as pd\n",
    "from PIL import Image\n",
    "from matplotlib.colors import Normalize, LinearSegmentedColormap\n",
    "import plotly.express as px\n",
    "from dash import Dash, dcc, html, Input, Output, callback\n",
    "\n",
    "\n",
    "colorscales = px.colors.named_colorscales()\n",
    "\n",
    "# Charger l'image de la ligne de métro\n",
    "image_path = 'plan_rer__a.png'\n",
    "img = Image.open(image_path)\n",
    "img_width, img_height = img.size\n",
    "\n",
    "\n",
    "# Créer l'application Dash\n",
    "app = dash.Dash(__name__, external_stylesheets=[dbc.themes.BOOTSTRAP], suppress_callback_exceptions=True)\n",
    "\n",
    "# Obtenir les années uniques pour le slider\n",
    "years = df_f['year'].unique()\n",
    "years.sort()\n",
    "months = df_f['month'].unique()\n",
    "months.sort()\n",
    "\n",
    "problem_types = df_f['label'].unique()\n",
    "\n",
    "\n",
    "app.layout = html.Div([\n",
    "    html.H1('Dashboad du RER A'),\n",
    "    dcc.Tabs(id=\"multiple_tabs\", value=\"accueil\", children=[\n",
    "            dcc.Tab(label=\"Vue générale\", value='ligne_rer_a'),\n",
    "            dcc.Tab(label=\"Temps réponse à incident\", value='temps_reponse_incidents')\n",
    "    ]),\n",
    "    html.Div(id='tabs-content-example-graph')\n",
    "])\n",
    "\n",
    "\"\"\"\n",
    "app.layout = html.Div([\n",
    "\n",
    "    html.Div([\n",
    "        html.H2(\"Nombre d'incidents par gare\", style={'textAlign': 'center'}),\n",
    "        html.Label(\"Sélectionnez l'année :\"),\n",
    "        dcc.Slider(\n",
    "        id='year-slider',\n",
    "        min=years.min(),\n",
    "        max=years.max(),\n",
    "        value=years.max(),\n",
    "        marks={str(year): str(year) for year in years},\n",
    "        step=None\n",
    "    ),\n",
    "    html.Label(\"Sélectionnez le mois :\"),\n",
    "    dcc.Slider(\n",
    "        id='month-slider',\n",
    "        min=months.min(),\n",
    "        max=months.max(),\n",
    "        value=months.max(),\n",
    "        marks={str(month): str(month) for month in months},\n",
    "        step=None\n",
    "    ),\n",
    "        dcc.Graph(id='incident-graph')\n",
    "    ])\n",
    "])\n",
    "\"\"\"\n",
    "\n",
    "@callback(Output('tabs-content-example-graph', 'children'),Input('multiple_tabs', 'value'))\n",
    "def render_content(tab):\n",
    "    if tab == 'ligne_rer_a':\n",
    "        return html.Div([\n",
    "\n",
    "            html.Div([\n",
    "                html.H2(\"Nombre d'incidents par gare\", style={'textAlign': 'center'}),\n",
    "                html.Label(\"Sélectionnez l'année :\"),\n",
    "                dcc.Slider(\n",
    "                id='year-slider',\n",
    "                min=years.min(),\n",
    "                max=years.max(),\n",
    "                value=years.max(),\n",
    "                marks={str(year): str(year) for year in years},\n",
    "                step=None\n",
    "            ),\n",
    "            html.Label(\"Sélectionnez le mois :\"),\n",
    "            dcc.RangeSlider(\n",
    "                id='month-slider',\n",
    "                min=months.min(),\n",
    "                max=months.max(),\n",
    "                value=[months.min(), months.max()],\n",
    "                marks={str(month): month_dict[month] for month in months},\n",
    "                step=None\n",
    "            ),\n",
    "            html.Label(\"Sélectionnez le type de problème :\"),\n",
    "            dcc.Dropdown(\n",
    "                id='problem-dropdown',\n",
    "                options=[{'label': problem, 'value': problem} for problem in all_types_split_unique],\n",
    "                value=all_types_split_unique,  # Sélectionner tous les types par défaut\n",
    "                multi=True\n",
    "            ),\n",
    "            html.Div([\n",
    "                dcc.Graph(id='incident-graph'),\n",
    "                dcc.Graph(id='incident-bar')\n",
    "                ])\n",
    "            ])\n",
    "        ])\n",
    "    elif tab == 'temps_reponse_incidents':\n",
    "        return html.Div([\n",
    "            html.H2(\"Temps de réponse aux incidents\", style={'textAlign': 'center'}),\n",
    "            html.Label(\"Sélectionnez le type d'incident :\"),\n",
    "            dcc.Dropdown(\n",
    "                id='incident-type-dropdown',\n",
    "                options=[{'label': problem, 'value': problem} for problem in all_types_split_unique],\n",
    "                value=all_types_split_unique,  # Sélectionner le premier type par défaut\n",
    "                multi=True\n",
    "            ),\n",
    "            html.Div(id='average-response-time')\n",
    "            \n",
    "\n",
    "        ])\n",
    "\n"
   ]
  },
  {
   "cell_type": "code",
   "execution_count": 232,
   "metadata": {},
   "outputs": [],
   "source": [
    "@app.callback(\n",
    "    [Output('incident-graph', 'figure'),\n",
    "    Output('incident-bar', 'figure'),],\n",
    "\n",
    "    [Input('year-slider', 'value'),\n",
    "     Input('month-slider', 'value'),\n",
    "     Input('problem-dropdown', 'value')]\n",
    ")\n",
    "def update_figure(selected_year, selected_month, selected_problems):\n",
    "    if selected_problems is None:\n",
    "        selected_problems = all_types_split_unique\n",
    "    # Filtrer les données en fonction de l'année sélectionnée\n",
    "    filtered_df = df_f[(df_f['year'] == selected_year) \n",
    "                       & (df_f['month'] >= selected_month[0]) \n",
    "                       & (df_f['month'] <= selected_month[1])\n",
    "                       & (df_f['label'].str.contains('|'.join(selected_problems)))\n",
    "                       ]\n",
    "\n",
    "    filtered_df2 = filtered_df[(filtered_df['tweet_type'] == 'Normal') & (filtered_df['len_label'] > 0)]\n",
    "\n",
    "\n",
    "    # Agréger les données pour obtenir le nombre d'incidents par gare\n",
    "    agg_data = filtered_df2.groupby('gare_source').size().reset_index(name='count')\n",
    "\n",
    "    # Agréger les données pour obtenir le nombre d'incidents par gare\n",
    "    full_data = pd.DataFrame(gares)\n",
    "    full_data[['x', 'y']] = pd.DataFrame(full_data['location'].tolist(), index=full_data.index)\n",
    "\n",
    "    full_data = full_data.merge(agg_data, left_on='name', right_on='gare_source', how='left', )\n",
    "    full_data['count'] = full_data['count'].fillna(0)\n",
    "    full_data['year'] = selected_year  # Ajouter l'année sélectionnée au DataFrame\n",
    "    full_data['month_begin'] = selected_month[0]  # Ajouter l'année sélectionnée au DataFrame\n",
    "    full_data['month_end'] = selected_month[1]  # Ajouter l'année sélectionnée au DataFrame\n",
    "    full_data['min_date'] = filtered_df['date'].min().strftime('%Y-%m-%d')\n",
    "    full_data['max_date'] = filtered_df['date'].max().strftime('%Y-%m-%d')\n",
    "\n",
    "    scatter_fig = px.scatter(\n",
    "        full_data, \n",
    "        x='x', \n",
    "        y='y', \n",
    "        size='count', \n",
    "        color='count', \n",
    "        color_continuous_scale=\"matter\", \n",
    "        opacity=1, \n",
    "        size_max=13,       \n",
    "        hover_name='name',\n",
    "        custom_data=['name', 'count', 'year', 'month_begin', 'month_end', 'min_date', 'max_date']\n",
    "        )\n",
    "    \n",
    "    scatter_fig.update_layout(\n",
    "        hovermode='closest',\n",
    "        title=dict(\n",
    "                text=\"Nombre d'incidents par gare\",\n",
    "                y=0.95,  # Ajuster la position verticale du titre\n",
    "                x=0.5,\n",
    "                xanchor='center',\n",
    "                yanchor='top',\n",
    "                font=dict(\n",
    "                    family=\"ParisineBold\",\n",
    "                    size=30,\n",
    "                    color=\"#284897\"\n",
    "                )\n",
    "            ),\n",
    "        margin=dict(l=0, r=0, b=0), # Ajuster les marges pour réduire les bordures\n",
    "        paper_bgcolor='white',  # Fond du papier en blanc\n",
    "        plot_bgcolor='white',\n",
    "        hoverlabel= dict(\n",
    "            font=dict(\n",
    "                family=\"ParisineBold\",\n",
    "                size=12,\n",
    "                color=\"#284897\",\n",
    "            ),\n",
    "            bgcolor=\"white\",\n",
    "\n",
    "\n",
    "        ),\n",
    "        coloraxis_colorbar=dict(\n",
    "            title=\"Nombre d'incidents\",\n",
    "            thicknessmode=\"pixels\",\n",
    "            lenmode=\"pixels\", \n",
    "            len=200,\n",
    "            yanchor=\"top\", \n",
    "            y=0.8,\n",
    "            ticks=\"outside\", \n",
    "            )\n",
    "    )\n",
    "    scatter_fig.update_traces(\n",
    "        #hovertemplate=\"<i>Date</i>: %{customdata[2]}/%{customdata[3]} au %{customdata[2]}/%{customdata[4]} <br>\"+\"<i>Gare</i>: %{customdata[0]}<br>\"+\"<i>Nombre d'incidents</i>: %{customdata[1]}\",\n",
    "        hovertemplate=\"<i>Date</i>: %{customdata[5]} au %{customdata[6]} <br>\"+\"<i>Gare</i>: %{customdata[0]}<br>\"+\"<i>Nombre d'incidents</i>: %{customdata[1]}\",\n",
    "\n",
    "    )\n",
    "\n",
    "    scatter_fig.add_layout_image(\n",
    "        dict(\n",
    "            source=img,\n",
    "            xref=\"x\",\n",
    "            yref=\"y\",\n",
    "            x=0,\n",
    "            y=img_height,\n",
    "            sizex=img_width,\n",
    "            sizey=img_height,\n",
    "            sizing=\"stretch\",\n",
    "            opacity=1,\n",
    "            layer=\"below\"\n",
    "        )\n",
    "    )\n",
    "\n",
    "\n",
    "    \n",
    "    # Ajuster les limites de l'axe pour correspondre à l'image\n",
    "    scatter_fig.update_xaxes(visible=False, )\n",
    "    scatter_fig.update_yaxes(visible=False, scaleanchor=\"x\")\n",
    "\n",
    "\n",
    "    # Créer la figure du bar chart\n",
    "    bar_fig = px.bar(\n",
    "        filtered_df2.groupby(['gare_source']).size().reset_index(name='count'),\n",
    "        x='gare_source',\n",
    "        y='count',\n",
    "        color='count',\n",
    "        color_continuous_scale=\"matter\", \n",
    "        opacity=1, \n",
    "        hover_name='gare_source',\n",
    "        custom_data=['gare_source', 'count']\n",
    "\n",
    "    )\n",
    "\n",
    "    bar_fig.update_traces(\n",
    "        hovertemplate=\"<i>Gare</i>: %{customdata[0]}<br>\"+\"<i>Nombre d'incidents</i>: %{customdata[1]}\",\n",
    "    )\n",
    "\n",
    "    bar_fig.update_layout(\n",
    "        title=dict(\n",
    "                text=\"Nombre d\\'incidents par gare (issus des problèmes sélectionnés)\",\n",
    "                y=0.95,  # Ajuster la position verticale du titre\n",
    "                x=0.5,\n",
    "                xanchor='center',\n",
    "                yanchor='top',\n",
    "                font=dict(\n",
    "                    family=\"ParisineBold\",\n",
    "                    size=25,\n",
    "                    color=\"#284897\"\n",
    "                )\n",
    "            ),\n",
    "        barmode='stack',\n",
    "        margin=dict(l=0, r=0, b=20), # Ajuster les marges pour réduire les bordures\n",
    "        xaxis={\n",
    "            'categoryorder': 'total descending',\n",
    "            'title': 'Gares concernés',\n",
    "            'tickfont': {\n",
    "                'family': 'ParisineBold',\n",
    "                'size': 12,\n",
    "                'color': '#284897'\n",
    "            }\n",
    "        },\n",
    "        bargap=0.2,\n",
    "        yaxis_title='',\n",
    "        paper_bgcolor='white',\n",
    "        plot_bgcolor='white',\n",
    "        hovermode='closest',\n",
    "        hoverlabel= dict(\n",
    "            font=dict(\n",
    "                family=\"ParisineBold\",\n",
    "                size=12,\n",
    "                color=\"#284897\",\n",
    "            ),\n",
    "            bgcolor=\"white\",\n",
    "\n",
    "\n",
    "        ),\n",
    "        coloraxis_colorbar=dict(\n",
    "            title=\"Nombre d'incidents\",\n",
    "            thicknessmode=\"pixels\",\n",
    "            lenmode=\"pixels\", \n",
    "            len=200,\n",
    "            yanchor=\"top\", \n",
    "            y=0.8,\n",
    "            ticks=\"outside\", \n",
    "            ),\n",
    "    )\n",
    "\n",
    "\n",
    "\n",
    "    return scatter_fig, bar_fig\n",
    "\n",
    "\n",
    "\n",
    "\n",
    "\n",
    "\n",
    "\n",
    "\n",
    "\n"
   ]
  },
  {
   "cell_type": "markdown",
   "metadata": {},
   "source": [
    "## Modif"
   ]
  },
  {
   "cell_type": "code",
   "execution_count": 4,
   "metadata": {},
   "outputs": [],
   "source": [
    "unique_id = df_f['tweet_id'].unique()\n",
    "\n",
    "pb_resolve = {\n",
    "    'id': [],\n",
    "    'begin_date': [],\n",
    "    'end_date': [],\n",
    "    'label':[],\n",
    "    'gare_source':[],\n",
    "    'duration': []\n",
    "}\n",
    "for id in unique_id:\n",
    "    \n",
    "    df_id = df_f[df_f['tweet_id']==id]\n",
    "\n",
    "    if isinstance(df_id[df_id['tweet_type']=='Normal']['label'].values[0], float):\n",
    "        continue\n",
    "\n",
    "    begin_date = df_id[df_id['tweet_type']=='Normal']['date'].values[0]\n",
    "    label = df_id[df_id['tweet_type']=='Normal']['label'].values[0]\n",
    "    gare_source = df_id[df_id['tweet_type']=='Normal']['gare_source'].values[0]\n",
    "\n",
    "    try:\n",
    "        end_date = df_id[df_id['tweet_type']=='Réponse'].sort_values('date', ascending=False).iloc[0]['date']\n",
    "    except Exception:\n",
    "        continue\n",
    "\n",
    "    pb_resolve['id'].append(id)\n",
    "    pb_resolve['begin_date'].append(begin_date)\n",
    "    pb_resolve['end_date'].append(end_date)\n",
    "    pb_resolve['label'].append(label)\n",
    "    pb_resolve['gare_source'].append(gare_source)\n",
    "    pb_resolve['duration'].append(end_date - begin_date)\n",
    "\n",
    "pb_resolve_df = pd.DataFrame.from_dict(pb_resolve)\n",
    "#pb_resolve_df.iloc[pb_resolve_df['duration'].idxmax()]\n",
    "\n",
    "pb_resolve_df.to_csv('pb_resolve.csv', index=False)"
   ]
  },
  {
   "cell_type": "code",
   "execution_count": 5,
   "metadata": {},
   "outputs": [
    {
     "data": {
      "text/html": [
       "<div>\n",
       "<style scoped>\n",
       "    .dataframe tbody tr th:only-of-type {\n",
       "        vertical-align: middle;\n",
       "    }\n",
       "\n",
       "    .dataframe tbody tr th {\n",
       "        vertical-align: top;\n",
       "    }\n",
       "\n",
       "    .dataframe thead th {\n",
       "        text-align: right;\n",
       "    }\n",
       "</style>\n",
       "<table border=\"1\" class=\"dataframe\">\n",
       "  <thead>\n",
       "    <tr style=\"text-align: right;\">\n",
       "      <th></th>\n",
       "      <th>id</th>\n",
       "      <th>begin_date</th>\n",
       "      <th>end_date</th>\n",
       "      <th>label</th>\n",
       "      <th>gare_source</th>\n",
       "      <th>duration</th>\n",
       "    </tr>\n",
       "  </thead>\n",
       "  <tbody>\n",
       "    <tr>\n",
       "      <th>0</th>\n",
       "      <td>8df8f19a-245b-4b8e-87e1-4aaa04f7fd7b</td>\n",
       "      <td>2024-08-03 18:47:13</td>\n",
       "      <td>2024-08-03 19:53:27</td>\n",
       "      <td>incident exploitation</td>\n",
       "      <td>Poissy</td>\n",
       "      <td>0 days 01:06:14</td>\n",
       "    </tr>\n",
       "    <tr>\n",
       "      <th>1</th>\n",
       "      <td>cf2de773-2139-44aa-b333-1363bfe7db1f</td>\n",
       "      <td>2024-08-03 14:35:52</td>\n",
       "      <td>2024-08-03 15:58:31</td>\n",
       "      <td>signal alarme</td>\n",
       "      <td>Gare de Lyon</td>\n",
       "      <td>0 days 01:22:39</td>\n",
       "    </tr>\n",
       "    <tr>\n",
       "      <th>2</th>\n",
       "      <td>e9bb1154-f50e-4d8e-a35d-0a02898dcff6</td>\n",
       "      <td>2024-08-03 03:08:16</td>\n",
       "      <td>2024-08-03 04:16:32</td>\n",
       "      <td>incident exploitation</td>\n",
       "      <td>Boissy-Saint-Léger</td>\n",
       "      <td>0 days 01:08:16</td>\n",
       "    </tr>\n",
       "    <tr>\n",
       "      <th>3</th>\n",
       "      <td>9b296b8a-14e7-4955-935c-5a47fccf82c4</td>\n",
       "      <td>2024-08-02 15:28:11</td>\n",
       "      <td>2024-08-02 15:29:18</td>\n",
       "      <td>intervention personnel</td>\n",
       "      <td>Auber</td>\n",
       "      <td>0 days 00:01:07</td>\n",
       "    </tr>\n",
       "    <tr>\n",
       "      <th>4</th>\n",
       "      <td>190ad1f7-287d-4220-aa42-529c6b7f60ce</td>\n",
       "      <td>2024-08-02 11:52:49</td>\n",
       "      <td>2024-08-02 11:53:29</td>\n",
       "      <td>intervention personnel</td>\n",
       "      <td>Fontenay-sous-Bois</td>\n",
       "      <td>0 days 00:00:40</td>\n",
       "    </tr>\n",
       "    <tr>\n",
       "      <th>...</th>\n",
       "      <td>...</td>\n",
       "      <td>...</td>\n",
       "      <td>...</td>\n",
       "      <td>...</td>\n",
       "      <td>...</td>\n",
       "      <td>...</td>\n",
       "    </tr>\n",
       "    <tr>\n",
       "      <th>764</th>\n",
       "      <td>dd5d7da0-b1c4-4c6e-aac3-739d5b2c65fa</td>\n",
       "      <td>2024-03-29 18:42:40</td>\n",
       "      <td>2024-03-29 18:50:59</td>\n",
       "      <td>voyageur</td>\n",
       "      <td>Vincennes</td>\n",
       "      <td>0 days 00:08:19</td>\n",
       "    </tr>\n",
       "    <tr>\n",
       "      <th>765</th>\n",
       "      <td>2daf6b2b-15c1-4514-bcbc-f1c413848678</td>\n",
       "      <td>2024-03-29 16:32:10</td>\n",
       "      <td>2024-03-29 17:59:51</td>\n",
       "      <td>signalisation</td>\n",
       "      <td>Gare de Lyon</td>\n",
       "      <td>0 days 01:27:41</td>\n",
       "    </tr>\n",
       "    <tr>\n",
       "      <th>766</th>\n",
       "      <td>4ebf78e9-5aa9-4282-b6dd-39cf80ba7812</td>\n",
       "      <td>2024-03-29 14:52:31</td>\n",
       "      <td>2024-03-29 15:51:12</td>\n",
       "      <td>intervention personnel</td>\n",
       "      <td>Gare de Lyon</td>\n",
       "      <td>0 days 00:58:41</td>\n",
       "    </tr>\n",
       "    <tr>\n",
       "      <th>767</th>\n",
       "      <td>90fede48-f350-4441-8d58-cdb31d5ac520</td>\n",
       "      <td>2024-03-29 14:41:55</td>\n",
       "      <td>2024-03-29 14:44:20</td>\n",
       "      <td>intervention personnel</td>\n",
       "      <td>Gare de Lyon</td>\n",
       "      <td>0 days 00:02:25</td>\n",
       "    </tr>\n",
       "    <tr>\n",
       "      <th>768</th>\n",
       "      <td>8c4640f1-f7e1-4af9-9bff-79bcff163090</td>\n",
       "      <td>2024-03-29 14:26:35</td>\n",
       "      <td>2024-03-29 14:27:57</td>\n",
       "      <td>signal alarme</td>\n",
       "      <td>Auber</td>\n",
       "      <td>0 days 00:01:22</td>\n",
       "    </tr>\n",
       "  </tbody>\n",
       "</table>\n",
       "<p>769 rows × 6 columns</p>\n",
       "</div>"
      ],
      "text/plain": [
       "                                       id          begin_date  \\\n",
       "0    8df8f19a-245b-4b8e-87e1-4aaa04f7fd7b 2024-08-03 18:47:13   \n",
       "1    cf2de773-2139-44aa-b333-1363bfe7db1f 2024-08-03 14:35:52   \n",
       "2    e9bb1154-f50e-4d8e-a35d-0a02898dcff6 2024-08-03 03:08:16   \n",
       "3    9b296b8a-14e7-4955-935c-5a47fccf82c4 2024-08-02 15:28:11   \n",
       "4    190ad1f7-287d-4220-aa42-529c6b7f60ce 2024-08-02 11:52:49   \n",
       "..                                    ...                 ...   \n",
       "764  dd5d7da0-b1c4-4c6e-aac3-739d5b2c65fa 2024-03-29 18:42:40   \n",
       "765  2daf6b2b-15c1-4514-bcbc-f1c413848678 2024-03-29 16:32:10   \n",
       "766  4ebf78e9-5aa9-4282-b6dd-39cf80ba7812 2024-03-29 14:52:31   \n",
       "767  90fede48-f350-4441-8d58-cdb31d5ac520 2024-03-29 14:41:55   \n",
       "768  8c4640f1-f7e1-4af9-9bff-79bcff163090 2024-03-29 14:26:35   \n",
       "\n",
       "               end_date                   label         gare_source  \\\n",
       "0   2024-08-03 19:53:27   incident exploitation              Poissy   \n",
       "1   2024-08-03 15:58:31           signal alarme        Gare de Lyon   \n",
       "2   2024-08-03 04:16:32   incident exploitation  Boissy-Saint-Léger   \n",
       "3   2024-08-02 15:29:18  intervention personnel               Auber   \n",
       "4   2024-08-02 11:53:29  intervention personnel  Fontenay-sous-Bois   \n",
       "..                  ...                     ...                 ...   \n",
       "764 2024-03-29 18:50:59                voyageur           Vincennes   \n",
       "765 2024-03-29 17:59:51           signalisation        Gare de Lyon   \n",
       "766 2024-03-29 15:51:12  intervention personnel        Gare de Lyon   \n",
       "767 2024-03-29 14:44:20  intervention personnel        Gare de Lyon   \n",
       "768 2024-03-29 14:27:57           signal alarme               Auber   \n",
       "\n",
       "           duration  \n",
       "0   0 days 01:06:14  \n",
       "1   0 days 01:22:39  \n",
       "2   0 days 01:08:16  \n",
       "3   0 days 00:01:07  \n",
       "4   0 days 00:00:40  \n",
       "..              ...  \n",
       "764 0 days 00:08:19  \n",
       "765 0 days 01:27:41  \n",
       "766 0 days 00:58:41  \n",
       "767 0 days 00:02:25  \n",
       "768 0 days 00:01:22  \n",
       "\n",
       "[769 rows x 6 columns]"
      ]
     },
     "execution_count": 5,
     "metadata": {},
     "output_type": "execute_result"
    }
   ],
   "source": [
    "pb_resolve_df"
   ]
  },
  {
   "cell_type": "code",
   "execution_count": 233,
   "metadata": {},
   "outputs": [],
   "source": [
    "@app.callback(\n",
    "    Output('average-response-time', 'children'),\n",
    "    [Input('incident-type-dropdown', 'value')]\n",
    ")\n",
    "def update_figure(selected_incident_type):\n",
    "\n",
    "    pb_resolve_df_filtered = pb_resolve_df[pb_resolve_df['label'].str.contains('|'.join(selected_incident_type))]\n",
    "\n",
    "    average_duration = pb_resolve_df_filtered['duration'].mean()  \n",
    "\n",
    "    average_day = average_duration.days\n",
    "    average_hour = average_duration.seconds//3600\n",
    "    average_minute = (average_duration.seconds//60)%60\n",
    "\n",
    "\n",
    "    return html.Div([\n",
    "            html.Div([\n",
    "                html.Img(src='/assets/IDF_RER_A_logo.svg', style={'width': '15%', 'float': 'left'}),\n",
    "                html.Div([\n",
    "                    html.H1(\"Temps de réponses à incidents\", style={'marginLeft': '20px', 'marginTop': '20px'}),\n",
    "                ], style={'display': 'inline-block', 'verticalAlign': 'top'})\n",
    "            ], style={'overflow': 'hidden'}),\n",
    "            html.Div(style={'height': '5px', 'backgroundColor': 'red', 'marginTop': '10px', 'width':'100%'}),\n",
    "            html.Div([\n",
    "                html.Div([\n",
    "                    html.H3(f\"Temps moyen de réponse\", style={'textAlign': 'left'}),\n",
    "                    html.Div([\n",
    "                        html.H3(f\"{average_day} jours, {average_hour} heures, {average_minute} minutes\", style={'color': 'yellow', 'textAlign': 'center', 'marginLeft': 'auto'})\n",
    "                    ], style={'backgroundColor': 'black', 'padding': '10px', 'marginLeft': 'auto', 'width': '40%', 'display': 'flex', 'alignItems': 'center'})\n",
    "                ], style={'display': 'flex', 'width': '100%'})\n",
    "            ]),\n",
    "\n",
    "            ])"
   ]
  },
  {
   "cell_type": "code",
   "execution_count": 234,
   "metadata": {},
   "outputs": [
    {
     "data": {
      "text/html": [
       "\n",
       "        <iframe\n",
       "            width=\"100%\"\n",
       "            height=\"650\"\n",
       "            src=\"http://127.0.0.1:5000/\"\n",
       "            frameborder=\"0\"\n",
       "            allowfullscreen\n",
       "            \n",
       "        ></iframe>\n",
       "        "
      ],
      "text/plain": [
       "<IPython.lib.display.IFrame at 0x24cd587eb50>"
      ]
     },
     "metadata": {},
     "output_type": "display_data"
    }
   ],
   "source": [
    "app.run_server(debug=True, dev_tools_hot_reload=True, host='127.0.0.1', port=5000)"
   ]
  }
 ],
 "metadata": {
  "kernelspec": {
   "display_name": "Python 3",
   "language": "python",
   "name": "python3"
  },
  "language_info": {
   "codemirror_mode": {
    "name": "ipython",
    "version": 3
   },
   "file_extension": ".py",
   "mimetype": "text/x-python",
   "name": "python",
   "nbconvert_exporter": "python",
   "pygments_lexer": "ipython3",
   "version": "3.11.0"
  }
 },
 "nbformat": 4,
 "nbformat_minor": 2
}
